{
 "cells": [
  {
   "cell_type": "markdown",
   "metadata": {},
   "source": [
    "# Assignment08\n",
    "# ID: 20155093\n",
    "# Name: Sonjeongseol\n",
    "# Github Link: https://github.com/wjdtjf1234/assignment01.git¶"
   ]
  },
  {
   "cell_type": "markdown",
   "metadata": {},
   "source": [
    "# Importing APIs"
   ]
  },
  {
   "cell_type": "code",
   "execution_count": 10,
   "metadata": {},
   "outputs": [],
   "source": [
    "import numpy as np\n",
    "import matplotlib.pyplot as plt\n",
    "from numpy.linalg import inv\n",
    "file_data_train = \"mnist_train.csv\"\n",
    "file_data_test  = \"mnist_test.csv\""
   ]
  },
  {
   "cell_type": "code",
   "execution_count": 11,
   "metadata": {},
   "outputs": [],
   "source": [
    "def normalize(data):\n",
    "    data_normalized = (data - min(data)) / (max(data) - min(data))\n",
    "    return(data_normalized)\n",
    "\n",
    "def distance(x, y):\n",
    "    d = (x - y) ** 2\n",
    "    s = np.sum(d)\n",
    "    return(s)"
   ]
  },
  {
   "cell_type": "markdown",
   "metadata": {},
   "source": [
    "# We will going to use mnist data sets"
   ]
  },
  {
   "cell_type": "code",
   "execution_count": 12,
   "metadata": {},
   "outputs": [],
   "source": [
    "h_data_train    = open(file_data_train, \"r\")\n",
    "h_data_test     = open(file_data_test, \"r\")\n",
    "\n",
    "data_train      = h_data_train.readlines()\n",
    "data_test       = h_data_test.readlines()\n",
    "\n",
    "h_data_train.close()\n",
    "h_data_test.close()\n",
    "\n",
    "size_row    = 28    # height of the image\n",
    "size_col    = 28    # width of the image\n",
    "\n",
    "num_train   = len(data_train)   # number of training images\n",
    "num_test    = len(data_test)    # number of testing images"
   ]
  },
  {
   "cell_type": "markdown",
   "metadata": {},
   "source": [
    "# Declare some arrays to store labels and image data of training and test data sets"
   ]
  },
  {
   "cell_type": "code",
   "execution_count": 13,
   "metadata": {},
   "outputs": [],
   "source": [
    "list_image_train    = np.empty((size_row * size_col, num_train), dtype=float)\n",
    "list_label_train    = np.empty(num_train, dtype=int)\n",
    "list_image_test     = np.empty((size_row * size_col, num_test), dtype=float)\n",
    "list_label_test     = np.empty(num_test, dtype=int)"
   ]
  },
  {
   "cell_type": "markdown",
   "metadata": {},
   "source": [
    "# We can get model parameters through getting average values of image vectors of label 0."
   ]
  },
  {
   "cell_type": "code",
   "execution_count": 14,
   "metadata": {
    "scrolled": true
   },
   "outputs": [
    {
     "data": {
      "image/png": "[encoded data removed]",
      "text/plain": [
       "<Figure size 432x288 with 1 Axes>"
      ]
     },
     "metadata": {},
     "output_type": "display_data"
    }
   ],
   "source": [
    "count = 0\n",
    "\n",
    "for line in data_train:\n",
    "\n",
    "    line_data   = line.split(',')\n",
    "    label       = line_data[0]\n",
    "    im_vector   = np.asfarray(line_data[1:]) \n",
    "    im_vector   = normalize(im_vector)\n",
    "\n",
    "    list_label_train[count]     = label\n",
    "    list_image_train[:, count]  = im_vector    #image sets\n",
    "\n",
    "    count += 1\n",
    "\n",
    "count = 0\n",
    "\n",
    "for line in data_test:\n",
    "    line_data   = line.split(',')\n",
    "    label       = line_data[0]\n",
    "    im_vector   = np.asfarray(line_data[1:])\n",
    "    im_vector   = normalize(im_vector)\n",
    "    list_label_test[count]      = label\n",
    "    list_image_test[:, count]   = im_vector    \n",
    "    count += 1\n",
    "    \n",
    "im_average  = np.zeros((size_row * size_col, 10), dtype=float)\n",
    "im_count    = np.zeros(10, dtype=int)\n",
    "\n",
    "for i in range(num_train):\n",
    "    im_average[:, list_label_train[i]]+=list_image_train[:, i]\n",
    "    im_count[list_label_train[i]] += 1\n",
    "\n",
    "im_average[:, 0] /= im_count[0]\n",
    "plt.subplot(1,1,1)\n",
    "plt.title(\"model parameters\")\n",
    "plt.imshow(im_average[:,0].reshape((size_row, size_col)), cmap='Greys', interpolation='None') \n",
    "frame   = plt.gca()\n",
    "frame.axes.get_xaxis().set_visible(False)\n",
    "frame.axes.get_yaxis().set_visible(False)\n",
    "plt.show()"
   ]
  },
  {
   "cell_type": "markdown",
   "metadata": {},
   "source": [
    "# An array y is for $\\tilde{f}(x)=θ_0 x_0 +θ_1 x_1 +···+θ_p x_p $"
   ]
  },
  {
   "cell_type": "code",
   "execution_count": 15,
   "metadata": {
    "scrolled": true
   },
   "outputs": [],
   "source": [
    "y=np.empty(num_test,dtype=float)\n",
    "for i in range(num_test):\n",
    "    y[i]=1-np.sqrt(distance(im_average[:,0],list_image_test[:,i])/(size_row*size_col))"
   ]
  },
  {
   "cell_type": "markdown",
   "metadata": {},
   "source": [
    "# Defining a function $\\hat{f}(x)=sign(\\tilde{f}(x))$"
   ]
  },
  {
   "cell_type": "code",
   "execution_count": 16,
   "metadata": {},
   "outputs": [],
   "source": [
    "def bpf(y,a):\n",
    "    tp_average=np.zeros((size_row*size_col),dtype=float)\n",
    "    fp_average=np.zeros((size_row*size_col),dtype=float)\n",
    "    tn_average=np.zeros((size_row*size_col),dtype=float)\n",
    "    fn_average=np.zeros((size_row*size_col),dtype=float)\n",
    "    table=np.zeros(4,dtype=int)\n",
    "    label_test=np.empty(num_test,dtype=int)\n",
    "    for i in range(num_test):\n",
    "        if(y[i]>=a):\n",
    "            label_test[i]=1\n",
    "            if(list_label_test[i]==0):\n",
    "                table[0]+=1        #TP\n",
    "                for j in range(size_row*size_col):\n",
    "                    tp_average[j]+=list_image_test[j, i]\n",
    "            else:\n",
    "                table[1]+=1         #FP\n",
    "                for j in range(size_row*size_col):\n",
    "                    fp_average[j]+=list_image_test[j, i]\n",
    "            \n",
    "        else:\n",
    "            label_test[i]=-1    \n",
    "            if(list_label_test[i]!=0):\n",
    "                table[3]+=1         #TN\n",
    "                for j in range(size_row*size_col):\n",
    "                    tn_average[j]+=list_image_test[j, i]\n",
    "            else:\n",
    "                table[2]+=1         #FN\n",
    "                for j in range(size_row*size_col):\n",
    "                    fn_average[j]+=list_image_test[j, i]  \n",
    "                    \n",
    "    tp_average/=table[0]\n",
    "    fp_average/=table[1]\n",
    "    tn_average/=table[3]\n",
    "    fn_average/=table[2]\n",
    "    print(\"True Positive:%d\\nFalse Positive:%d\\nTrue Negative:%d\\nFalse Negative:%d\\nTotal:%d\"%(table[0],table[1],table[3],table[2],(table[0]+table[1]+table[2]+table[3])))\n",
    "    plt.subplot(2,2,1)\n",
    "    plt.title(\"true positive average\")\n",
    "    plt.imshow(tp_average.reshape((size_row, size_col)), cmap='Greys', interpolation='None')\n",
    "    frame   = plt.gca()\n",
    "    frame.axes.get_xaxis().set_visible(False)\n",
    "    frame.axes.get_yaxis().set_visible(False)\n",
    "    plt.show()\n",
    "    \n",
    "    plt.subplot(2,2,2)\n",
    "    plt.title(\"false positive average\")\n",
    "    plt.imshow(fp_average.reshape((size_row, size_col)), cmap='Greys', interpolation='None') \n",
    "    frame   = plt.gca()\n",
    "    frame.axes.get_xaxis().set_visible(False)\n",
    "    frame.axes.get_yaxis().set_visible(False)\n",
    "    plt.show()\n",
    "    \n",
    "    plt.subplot(2,2,3)\n",
    "    plt.title(\"true negative average\")\n",
    "    plt.imshow(tn_average.reshape((size_row, size_col)), cmap='Greys', interpolation='None') \n",
    "    frame   = plt.gca()\n",
    "    frame.axes.get_xaxis().set_visible(False)\n",
    "    frame.axes.get_yaxis().set_visible(False)\n",
    "    plt.show()\n",
    "    \n",
    "    plt.subplot(2,2,4)\n",
    "    plt.title(\"false negative average\")\n",
    "    plt.imshow(fn_average.reshape((size_row, size_col)), cmap='Greys', interpolation='None') \n",
    "    frame   = plt.gca()\n",
    "    frame.axes.get_xaxis().set_visible(False)\n",
    "    frame.axes.get_yaxis().set_visible(False)\n",
    "    plt.show()\n",
    "    "
   ]
  },
  {
   "cell_type": "code",
   "execution_count": 17,
   "metadata": {
    "scrolled": true
   },
   "outputs": [
    {
     "name": "stdout",
     "output_type": "stream",
     "text": [
      "True Positive:943\n",
      "False Positive:1962\n",
      "True Negative:7058\n",
      "False Negative:37\n",
      "Total:10000\n"
     ]
    },
    {
     "data": {
      "image/png": "[encoded data removed]",
      "text/plain": [
       "<Figure size 432x288 with 1 Axes>"
      ]
     },
     "metadata": {},
     "output_type": "display_data"
    },
    {
     "data": {
      "image/png": "[encoded data removed]",
      "text/plain": [
       "<Figure size 432x288 with 1 Axes>"
      ]
     },
     "metadata": {},
     "output_type": "display_data"
    },
    {
     "data": {
      "image/png": "[encoded data removed]",
      "text/plain": [
       "<Figure size 432x288 with 1 Axes>"
      ]
     },
     "metadata": {},
     "output_type": "display_data"
    },
    {
     "data": {
      "image/png": "[encoded data removed]",
      "text/plain": [
       "<Figure size 432x288 with 1 Axes>"
      ]
     },
     "metadata": {},
     "output_type": "display_data"
    }
   ],
   "source": [
    "bpf(y,0.701)   "
   ]
  },
  {
   "cell_type": "code",
   "execution_count": null,
   "metadata": {},
   "outputs": [],
   "source": []
  }
 ],
 "metadata": {
  "kernelspec": {
   "display_name": "Python 3",
   "language": "python",
   "name": "python3"
  },
  "language_info": {
   "codemirror_mode": {
    "name": "ipython",
    "version": 3
   },
   "file_extension": ".py",
   "mimetype": "text/x-python",
   "name": "python",
   "nbconvert_exporter": "python",
   "pygments_lexer": "ipython3",
   "version": "3.6.5"
  }
 },
 "nbformat": 4,
 "nbformat_minor": 2
}
